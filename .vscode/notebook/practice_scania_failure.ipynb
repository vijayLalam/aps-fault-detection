{
 "cells": [
  {
   "cell_type": "code",
   "execution_count": 33,
   "metadata": {},
   "outputs": [],
   "source": [
    "import pandas as pd\n",
    "import matplotlib.pyplot as plt\n",
    "import numpy as np\n",
    "import seaborn as sns"
   ]
  },
  {
   "cell_type": "code",
   "execution_count": 30,
   "metadata": {},
   "outputs": [
    {
     "name": "stdout",
     "output_type": "stream",
     "text": [
      "Collecting seaborn\n",
      "  Downloading seaborn-0.12.2-py3-none-any.whl (293 kB)\n",
      "\u001b[K     |████████████████████████████████| 293 kB 23.3 MB/s eta 0:00:01\n",
      "\u001b[?25hRequirement already satisfied: matplotlib!=3.6.1,>=3.1 in /config/.local/lib/python3.8/site-packages (from seaborn) (3.7.1)\n",
      "Requirement already satisfied: pandas>=0.25 in /config/.local/lib/python3.8/site-packages (from seaborn) (1.5.3)\n",
      "Requirement already satisfied: numpy!=1.24.0,>=1.17 in /config/.local/lib/python3.8/site-packages (from seaborn) (1.24.2)\n",
      "Requirement already satisfied: kiwisolver>=1.0.1 in /config/.local/lib/python3.8/site-packages (from matplotlib!=3.6.1,>=3.1->seaborn) (1.4.4)\n",
      "Requirement already satisfied: importlib-resources>=3.2.0; python_version < \"3.10\" in /config/.local/lib/python3.8/site-packages (from matplotlib!=3.6.1,>=3.1->seaborn) (5.12.0)\n",
      "Requirement already satisfied: fonttools>=4.22.0 in /config/.local/lib/python3.8/site-packages (from matplotlib!=3.6.1,>=3.1->seaborn) (4.39.3)\n",
      "Requirement already satisfied: pillow>=6.2.0 in /config/.local/lib/python3.8/site-packages (from matplotlib!=3.6.1,>=3.1->seaborn) (9.4.0)\n",
      "Requirement already satisfied: python-dateutil>=2.7 in /config/.local/lib/python3.8/site-packages (from matplotlib!=3.6.1,>=3.1->seaborn) (2.8.2)\n",
      "Requirement already satisfied: cycler>=0.10 in /config/.local/lib/python3.8/site-packages (from matplotlib!=3.6.1,>=3.1->seaborn) (0.11.0)\n",
      "Requirement already satisfied: contourpy>=1.0.1 in /config/.local/lib/python3.8/site-packages (from matplotlib!=3.6.1,>=3.1->seaborn) (1.0.7)\n",
      "Requirement already satisfied: packaging>=20.0 in /config/.local/lib/python3.8/site-packages (from matplotlib!=3.6.1,>=3.1->seaborn) (23.0)\n",
      "Requirement already satisfied: pyparsing>=2.3.1 in /config/.local/lib/python3.8/site-packages (from matplotlib!=3.6.1,>=3.1->seaborn) (3.0.9)\n",
      "Requirement already satisfied: pytz>=2020.1 in /config/.local/lib/python3.8/site-packages (from pandas>=0.25->seaborn) (2023.3)\n",
      "Requirement already satisfied: zipp>=3.1.0; python_version < \"3.10\" in /config/.local/lib/python3.8/site-packages (from importlib-resources>=3.2.0; python_version < \"3.10\"->matplotlib!=3.6.1,>=3.1->seaborn) (3.15.0)\n",
      "Requirement already satisfied: six>=1.5 in /config/.local/lib/python3.8/site-packages (from python-dateutil>=2.7->matplotlib!=3.6.1,>=3.1->seaborn) (1.16.0)\n",
      "Installing collected packages: seaborn\n",
      "Successfully installed seaborn-0.12.2\n",
      "Note: you may need to restart the kernel to use updated packages.\n"
     ]
    }
   ],
   "source": [
    "pip install seaborn"
   ]
  },
  {
   "cell_type": "code",
   "execution_count": 3,
   "metadata": {},
   "outputs": [],
   "source": [
    "df1=pd.read_csv(\"/config/workspace/aps_failure_training_set1.csv\")\n",
    "#na is a string,we need to replace it with NaN(missing value ) while loading CSV file  into DF\n",
    "df=pd.read_csv(\"/config/workspace/aps_failure_training_set1.csv\",na_values=\"na\")"
   ]
  },
  {
   "cell_type": "code",
   "execution_count": 4,
   "metadata": {},
   "outputs": [
    {
     "name": "stdout",
     "output_type": "stream",
     "text": [
      "class         0\n",
      "aa_000        0\n",
      "ab_000    27896\n",
      "ac_000     2141\n",
      "ad_000     9200\n",
      "          ...  \n",
      "ee_007      379\n",
      "ee_008      379\n",
      "ee_009      379\n",
      "ef_000     1730\n",
      "eg_000     1729\n",
      "Length: 171, dtype: int64\n",
      "percentage of missing_values_count in dataframe is 0.08333058614629127\n"
     ]
    }
   ],
   "source": [
    "missing_values_count=df.isnull().sum()\n",
    "print(missing_values_count)\n",
    "total_cells=np.product(df.shape)\n",
    "total_cells\n",
    "print(\"percentage of missing_values_count in dataframe is {}\".format(missing_values_count.sum()/total_cells))\n"
   ]
  },
  {
   "cell_type": "code",
   "execution_count": 5,
   "metadata": {},
   "outputs": [
    {
     "name": "stdout",
     "output_type": "stream",
     "text": [
      "      class  aa_000 ab_000      ac_000 ad_000 ae_000 af_000 ag_000  ag_001  \\\n",
      "0       pos  153204      0         182     na      0      0      0       0   \n",
      "1       pos  453236     na        2926     na      0      0      0       0   \n",
      "2       pos   72504     na        1594   1052      0      0      0     244   \n",
      "3       pos  762958     na          na     na     na     na    776  281128   \n",
      "4       pos  695994     na          na     na     na     na      0       0   \n",
      "...     ...     ...    ...         ...    ...    ...    ...    ...     ...   \n",
      "36183   neg  153002     na         664    186      0      0      0       0   \n",
      "36184   neg    2286     na  2130706538    224      0      0      0       0   \n",
      "36185   neg     112      0  2130706432     18      0      0      0       0   \n",
      "36186   neg   80292     na  2130706432    494      0      0      0       0   \n",
      "36187   neg   40222     na         698    628      0      0      0       0   \n",
      "\n",
      "        ag_002  ...   ee_002   ee_003   ee_004   ee_005   ee_006  ee_007  \\\n",
      "0            0  ...   129862    26872    34044    22472    34362       0   \n",
      "1          222  ...  7908038  3026002  5025350  2025766  1160638  533834   \n",
      "2       178226  ...  1432098   372252   527514   358274   332818  284178   \n",
      "3      2186308  ...       na       na       na       na       na      na   \n",
      "4            0  ...  1397742   495544   361646    28610     5130     212   \n",
      "...        ...  ...      ...      ...      ...      ...      ...     ...   \n",
      "36183        0  ...   998500   566884  1290398  1218244  1019768  717762   \n",
      "36184        0  ...    10578     6760    21126    68424      136       0   \n",
      "36185        0  ...      792      386      452      144      146    2622   \n",
      "36186        0  ...   699352   222654   347378   225724   194440  165070   \n",
      "36187        0  ...   440066   183200   344546   254068   225148  158304   \n",
      "\n",
      "       ee_008  ee_009 ef_000 eg_000  \n",
      "0           0       0      0      0  \n",
      "1      493800    6914      0      0  \n",
      "2        3742       0      0      0  \n",
      "3          na      na     na     na  \n",
      "4           0       0     na     na  \n",
      "...       ...     ...    ...    ...  \n",
      "36183  898642   28588      0      0  \n",
      "36184       0       0      0      0  \n",
      "36185       0       0      0      0  \n",
      "36186  802280  388422      0      0  \n",
      "36187  170384     158      0      0  \n",
      "\n",
      "[36188 rows x 171 columns]\n"
     ]
    }
   ],
   "source": [
    "print(df1)\n"
   ]
  },
  {
   "cell_type": "code",
   "execution_count": 6,
   "metadata": {},
   "outputs": [
    {
     "name": "stdout",
     "output_type": "stream",
     "text": [
      "      class  aa_000  ab_000        ac_000  ad_000  ae_000  af_000  ag_000  \\\n",
      "0       pos  153204     0.0  1.820000e+02     NaN     0.0     0.0     0.0   \n",
      "1       pos  453236     NaN  2.926000e+03     NaN     0.0     0.0     0.0   \n",
      "2       pos   72504     NaN  1.594000e+03  1052.0     0.0     0.0     0.0   \n",
      "3       pos  762958     NaN           NaN     NaN     NaN     NaN   776.0   \n",
      "4       pos  695994     NaN           NaN     NaN     NaN     NaN     0.0   \n",
      "...     ...     ...     ...           ...     ...     ...     ...     ...   \n",
      "36183   neg  153002     NaN  6.640000e+02   186.0     0.0     0.0     0.0   \n",
      "36184   neg    2286     NaN  2.130707e+09   224.0     0.0     0.0     0.0   \n",
      "36185   neg     112     0.0  2.130706e+09    18.0     0.0     0.0     0.0   \n",
      "36186   neg   80292     NaN  2.130706e+09   494.0     0.0     0.0     0.0   \n",
      "36187   neg   40222     NaN  6.980000e+02   628.0     0.0     0.0     0.0   \n",
      "\n",
      "         ag_001     ag_002  ...     ee_002     ee_003     ee_004     ee_005  \\\n",
      "0           0.0        0.0  ...   129862.0    26872.0    34044.0    22472.0   \n",
      "1           0.0      222.0  ...  7908038.0  3026002.0  5025350.0  2025766.0   \n",
      "2         244.0   178226.0  ...  1432098.0   372252.0   527514.0   358274.0   \n",
      "3      281128.0  2186308.0  ...        NaN        NaN        NaN        NaN   \n",
      "4           0.0        0.0  ...  1397742.0   495544.0   361646.0    28610.0   \n",
      "...         ...        ...  ...        ...        ...        ...        ...   \n",
      "36183       0.0        0.0  ...   998500.0   566884.0  1290398.0  1218244.0   \n",
      "36184       0.0        0.0  ...    10578.0     6760.0    21126.0    68424.0   \n",
      "36185       0.0        0.0  ...      792.0      386.0      452.0      144.0   \n",
      "36186       0.0        0.0  ...   699352.0   222654.0   347378.0   225724.0   \n",
      "36187       0.0        0.0  ...   440066.0   183200.0   344546.0   254068.0   \n",
      "\n",
      "          ee_006    ee_007    ee_008    ee_009  ef_000  eg_000  \n",
      "0        34362.0       0.0       0.0       0.0     0.0     0.0  \n",
      "1      1160638.0  533834.0  493800.0    6914.0     0.0     0.0  \n",
      "2       332818.0  284178.0    3742.0       0.0     0.0     0.0  \n",
      "3            NaN       NaN       NaN       NaN     NaN     NaN  \n",
      "4         5130.0     212.0       0.0       0.0     NaN     NaN  \n",
      "...          ...       ...       ...       ...     ...     ...  \n",
      "36183  1019768.0  717762.0  898642.0   28588.0     0.0     0.0  \n",
      "36184      136.0       0.0       0.0       0.0     0.0     0.0  \n",
      "36185      146.0    2622.0       0.0       0.0     0.0     0.0  \n",
      "36186   194440.0  165070.0  802280.0  388422.0     0.0     0.0  \n",
      "36187   225148.0  158304.0  170384.0     158.0     0.0     0.0  \n",
      "\n",
      "[36188 rows x 171 columns]\n"
     ]
    }
   ],
   "source": [
    "print(df)"
   ]
  },
  {
   "cell_type": "code",
   "execution_count": 7,
   "metadata": {},
   "outputs": [
    {
     "name": "stdout",
     "output_type": "stream",
     "text": [
      "(36188, 171)\n",
      "36188\n",
      "171\n"
     ]
    },
    {
     "data": {
      "text/html": [
       "<div>\n",
       "<style scoped>\n",
       "    .dataframe tbody tr th:only-of-type {\n",
       "        vertical-align: middle;\n",
       "    }\n",
       "\n",
       "    .dataframe tbody tr th {\n",
       "        vertical-align: top;\n",
       "    }\n",
       "\n",
       "    .dataframe thead th {\n",
       "        text-align: right;\n",
       "    }\n",
       "</style>\n",
       "<table border=\"1\" class=\"dataframe\">\n",
       "  <thead>\n",
       "    <tr style=\"text-align: right;\">\n",
       "      <th></th>\n",
       "      <th>0</th>\n",
       "      <th>1</th>\n",
       "      <th>2</th>\n",
       "      <th>3</th>\n",
       "      <th>4</th>\n",
       "      <th>5</th>\n",
       "      <th>6</th>\n",
       "      <th>7</th>\n",
       "      <th>8</th>\n",
       "      <th>9</th>\n",
       "      <th>...</th>\n",
       "      <th>36178</th>\n",
       "      <th>36179</th>\n",
       "      <th>36180</th>\n",
       "      <th>36181</th>\n",
       "      <th>36182</th>\n",
       "      <th>36183</th>\n",
       "      <th>36184</th>\n",
       "      <th>36185</th>\n",
       "      <th>36186</th>\n",
       "      <th>36187</th>\n",
       "    </tr>\n",
       "  </thead>\n",
       "  <tbody>\n",
       "    <tr>\n",
       "      <th>class</th>\n",
       "      <td>pos</td>\n",
       "      <td>pos</td>\n",
       "      <td>pos</td>\n",
       "      <td>pos</td>\n",
       "      <td>pos</td>\n",
       "      <td>pos</td>\n",
       "      <td>pos</td>\n",
       "      <td>pos</td>\n",
       "      <td>pos</td>\n",
       "      <td>pos</td>\n",
       "      <td>...</td>\n",
       "      <td>neg</td>\n",
       "      <td>neg</td>\n",
       "      <td>neg</td>\n",
       "      <td>neg</td>\n",
       "      <td>neg</td>\n",
       "      <td>neg</td>\n",
       "      <td>neg</td>\n",
       "      <td>neg</td>\n",
       "      <td>neg</td>\n",
       "      <td>neg</td>\n",
       "    </tr>\n",
       "    <tr>\n",
       "      <th>aa_000</th>\n",
       "      <td>153204</td>\n",
       "      <td>453236</td>\n",
       "      <td>72504</td>\n",
       "      <td>762958</td>\n",
       "      <td>695994</td>\n",
       "      <td>1056758</td>\n",
       "      <td>361638</td>\n",
       "      <td>791254</td>\n",
       "      <td>1053152</td>\n",
       "      <td>785270</td>\n",
       "      <td>...</td>\n",
       "      <td>81354</td>\n",
       "      <td>39308</td>\n",
       "      <td>14</td>\n",
       "      <td>0</td>\n",
       "      <td>32</td>\n",
       "      <td>153002</td>\n",
       "      <td>2286</td>\n",
       "      <td>112</td>\n",
       "      <td>80292</td>\n",
       "      <td>40222</td>\n",
       "    </tr>\n",
       "    <tr>\n",
       "      <th>ab_000</th>\n",
       "      <td>0.0</td>\n",
       "      <td>NaN</td>\n",
       "      <td>NaN</td>\n",
       "      <td>NaN</td>\n",
       "      <td>NaN</td>\n",
       "      <td>0.0</td>\n",
       "      <td>0.0</td>\n",
       "      <td>NaN</td>\n",
       "      <td>NaN</td>\n",
       "      <td>NaN</td>\n",
       "      <td>...</td>\n",
       "      <td>NaN</td>\n",
       "      <td>NaN</td>\n",
       "      <td>0.0</td>\n",
       "      <td>2.0</td>\n",
       "      <td>0.0</td>\n",
       "      <td>NaN</td>\n",
       "      <td>NaN</td>\n",
       "      <td>0.0</td>\n",
       "      <td>NaN</td>\n",
       "      <td>NaN</td>\n",
       "    </tr>\n",
       "    <tr>\n",
       "      <th>ac_000</th>\n",
       "      <td>182.0</td>\n",
       "      <td>2926.0</td>\n",
       "      <td>1594.0</td>\n",
       "      <td>NaN</td>\n",
       "      <td>NaN</td>\n",
       "      <td>42328.0</td>\n",
       "      <td>280.0</td>\n",
       "      <td>NaN</td>\n",
       "      <td>NaN</td>\n",
       "      <td>NaN</td>\n",
       "      <td>...</td>\n",
       "      <td>2130706432.0</td>\n",
       "      <td>452.0</td>\n",
       "      <td>2.0</td>\n",
       "      <td>0.0</td>\n",
       "      <td>0.0</td>\n",
       "      <td>664.0</td>\n",
       "      <td>2130706538.0</td>\n",
       "      <td>2130706432.0</td>\n",
       "      <td>2130706432.0</td>\n",
       "      <td>698.0</td>\n",
       "    </tr>\n",
       "    <tr>\n",
       "      <th>ad_000</th>\n",
       "      <td>NaN</td>\n",
       "      <td>NaN</td>\n",
       "      <td>1052.0</td>\n",
       "      <td>NaN</td>\n",
       "      <td>NaN</td>\n",
       "      <td>856.0</td>\n",
       "      <td>NaN</td>\n",
       "      <td>NaN</td>\n",
       "      <td>NaN</td>\n",
       "      <td>8994.0</td>\n",
       "      <td>...</td>\n",
       "      <td>156.0</td>\n",
       "      <td>374.0</td>\n",
       "      <td>2.0</td>\n",
       "      <td>0.0</td>\n",
       "      <td>NaN</td>\n",
       "      <td>186.0</td>\n",
       "      <td>224.0</td>\n",
       "      <td>18.0</td>\n",
       "      <td>494.0</td>\n",
       "      <td>628.0</td>\n",
       "    </tr>\n",
       "    <tr>\n",
       "      <th>...</th>\n",
       "      <td>...</td>\n",
       "      <td>...</td>\n",
       "      <td>...</td>\n",
       "      <td>...</td>\n",
       "      <td>...</td>\n",
       "      <td>...</td>\n",
       "      <td>...</td>\n",
       "      <td>...</td>\n",
       "      <td>...</td>\n",
       "      <td>...</td>\n",
       "      <td>...</td>\n",
       "      <td>...</td>\n",
       "      <td>...</td>\n",
       "      <td>...</td>\n",
       "      <td>...</td>\n",
       "      <td>...</td>\n",
       "      <td>...</td>\n",
       "      <td>...</td>\n",
       "      <td>...</td>\n",
       "      <td>...</td>\n",
       "      <td>...</td>\n",
       "    </tr>\n",
       "    <tr>\n",
       "      <th>ee_007</th>\n",
       "      <td>0.0</td>\n",
       "      <td>533834.0</td>\n",
       "      <td>284178.0</td>\n",
       "      <td>NaN</td>\n",
       "      <td>212.0</td>\n",
       "      <td>2295880.0</td>\n",
       "      <td>264410.0</td>\n",
       "      <td>12114820.0</td>\n",
       "      <td>5082396.0</td>\n",
       "      <td>0.0</td>\n",
       "      <td>...</td>\n",
       "      <td>161266.0</td>\n",
       "      <td>157636.0</td>\n",
       "      <td>0.0</td>\n",
       "      <td>0.0</td>\n",
       "      <td>486.0</td>\n",
       "      <td>717762.0</td>\n",
       "      <td>0.0</td>\n",
       "      <td>2622.0</td>\n",
       "      <td>165070.0</td>\n",
       "      <td>158304.0</td>\n",
       "    </tr>\n",
       "    <tr>\n",
       "      <th>ee_008</th>\n",
       "      <td>0.0</td>\n",
       "      <td>493800.0</td>\n",
       "      <td>3742.0</td>\n",
       "      <td>NaN</td>\n",
       "      <td>0.0</td>\n",
       "      <td>220478.0</td>\n",
       "      <td>33734.0</td>\n",
       "      <td>264714.0</td>\n",
       "      <td>6259760.0</td>\n",
       "      <td>0.0</td>\n",
       "      <td>...</td>\n",
       "      <td>3284.0</td>\n",
       "      <td>234932.0</td>\n",
       "      <td>0.0</td>\n",
       "      <td>0.0</td>\n",
       "      <td>0.0</td>\n",
       "      <td>898642.0</td>\n",
       "      <td>0.0</td>\n",
       "      <td>0.0</td>\n",
       "      <td>802280.0</td>\n",
       "      <td>170384.0</td>\n",
       "    </tr>\n",
       "    <tr>\n",
       "      <th>ee_009</th>\n",
       "      <td>0.0</td>\n",
       "      <td>6914.0</td>\n",
       "      <td>0.0</td>\n",
       "      <td>NaN</td>\n",
       "      <td>0.0</td>\n",
       "      <td>482.0</td>\n",
       "      <td>0.0</td>\n",
       "      <td>198.0</td>\n",
       "      <td>176752.0</td>\n",
       "      <td>0.0</td>\n",
       "      <td>...</td>\n",
       "      <td>0.0</td>\n",
       "      <td>9506.0</td>\n",
       "      <td>0.0</td>\n",
       "      <td>0.0</td>\n",
       "      <td>0.0</td>\n",
       "      <td>28588.0</td>\n",
       "      <td>0.0</td>\n",
       "      <td>0.0</td>\n",
       "      <td>388422.0</td>\n",
       "      <td>158.0</td>\n",
       "    </tr>\n",
       "    <tr>\n",
       "      <th>ef_000</th>\n",
       "      <td>0.0</td>\n",
       "      <td>0.0</td>\n",
       "      <td>0.0</td>\n",
       "      <td>NaN</td>\n",
       "      <td>NaN</td>\n",
       "      <td>0.0</td>\n",
       "      <td>0.0</td>\n",
       "      <td>NaN</td>\n",
       "      <td>NaN</td>\n",
       "      <td>NaN</td>\n",
       "      <td>...</td>\n",
       "      <td>0.0</td>\n",
       "      <td>0.0</td>\n",
       "      <td>0.0</td>\n",
       "      <td>0.0</td>\n",
       "      <td>0.0</td>\n",
       "      <td>0.0</td>\n",
       "      <td>0.0</td>\n",
       "      <td>0.0</td>\n",
       "      <td>0.0</td>\n",
       "      <td>0.0</td>\n",
       "    </tr>\n",
       "    <tr>\n",
       "      <th>eg_000</th>\n",
       "      <td>0.0</td>\n",
       "      <td>0.0</td>\n",
       "      <td>0.0</td>\n",
       "      <td>NaN</td>\n",
       "      <td>NaN</td>\n",
       "      <td>0.0</td>\n",
       "      <td>0.0</td>\n",
       "      <td>NaN</td>\n",
       "      <td>NaN</td>\n",
       "      <td>NaN</td>\n",
       "      <td>...</td>\n",
       "      <td>0.0</td>\n",
       "      <td>0.0</td>\n",
       "      <td>0.0</td>\n",
       "      <td>0.0</td>\n",
       "      <td>0.0</td>\n",
       "      <td>0.0</td>\n",
       "      <td>0.0</td>\n",
       "      <td>0.0</td>\n",
       "      <td>0.0</td>\n",
       "      <td>0.0</td>\n",
       "    </tr>\n",
       "  </tbody>\n",
       "</table>\n",
       "<p>171 rows × 36188 columns</p>\n",
       "</div>"
      ],
      "text/plain": [
       "         0         1         2       3       4          5         6      \\\n",
       "class      pos       pos       pos     pos     pos        pos       pos   \n",
       "aa_000  153204    453236     72504  762958  695994    1056758    361638   \n",
       "ab_000     0.0       NaN       NaN     NaN     NaN        0.0       0.0   \n",
       "ac_000   182.0    2926.0    1594.0     NaN     NaN    42328.0     280.0   \n",
       "ad_000     NaN       NaN    1052.0     NaN     NaN      856.0       NaN   \n",
       "...        ...       ...       ...     ...     ...        ...       ...   \n",
       "ee_007     0.0  533834.0  284178.0     NaN   212.0  2295880.0  264410.0   \n",
       "ee_008     0.0  493800.0    3742.0     NaN     0.0   220478.0   33734.0   \n",
       "ee_009     0.0    6914.0       0.0     NaN     0.0      482.0       0.0   \n",
       "ef_000     0.0       0.0       0.0     NaN     NaN        0.0       0.0   \n",
       "eg_000     0.0       0.0       0.0     NaN     NaN        0.0       0.0   \n",
       "\n",
       "             7          8       9      ...         36178     36179 36180  \\\n",
       "class          pos        pos     pos  ...           neg       neg   neg   \n",
       "aa_000      791254    1053152  785270  ...         81354     39308    14   \n",
       "ab_000         NaN        NaN     NaN  ...           NaN       NaN   0.0   \n",
       "ac_000         NaN        NaN     NaN  ...  2130706432.0     452.0   2.0   \n",
       "ad_000         NaN        NaN  8994.0  ...         156.0     374.0   2.0   \n",
       "...            ...        ...     ...  ...           ...       ...   ...   \n",
       "ee_007  12114820.0  5082396.0     0.0  ...      161266.0  157636.0   0.0   \n",
       "ee_008    264714.0  6259760.0     0.0  ...        3284.0  234932.0   0.0   \n",
       "ee_009       198.0   176752.0     0.0  ...           0.0    9506.0   0.0   \n",
       "ef_000         NaN        NaN     NaN  ...           0.0       0.0   0.0   \n",
       "eg_000         NaN        NaN     NaN  ...           0.0       0.0   0.0   \n",
       "\n",
       "       36181  36182     36183         36184         36185         36186  \\\n",
       "class    neg    neg       neg           neg           neg           neg   \n",
       "aa_000     0     32    153002          2286           112         80292   \n",
       "ab_000   2.0    0.0       NaN           NaN           0.0           NaN   \n",
       "ac_000   0.0    0.0     664.0  2130706538.0  2130706432.0  2130706432.0   \n",
       "ad_000   0.0    NaN     186.0         224.0          18.0         494.0   \n",
       "...      ...    ...       ...           ...           ...           ...   \n",
       "ee_007   0.0  486.0  717762.0           0.0        2622.0      165070.0   \n",
       "ee_008   0.0    0.0  898642.0           0.0           0.0      802280.0   \n",
       "ee_009   0.0    0.0   28588.0           0.0           0.0      388422.0   \n",
       "ef_000   0.0    0.0       0.0           0.0           0.0           0.0   \n",
       "eg_000   0.0    0.0       0.0           0.0           0.0           0.0   \n",
       "\n",
       "           36187  \n",
       "class        neg  \n",
       "aa_000     40222  \n",
       "ab_000       NaN  \n",
       "ac_000     698.0  \n",
       "ad_000     628.0  \n",
       "...          ...  \n",
       "ee_007  158304.0  \n",
       "ee_008  170384.0  \n",
       "ee_009     158.0  \n",
       "ef_000       0.0  \n",
       "eg_000       0.0  \n",
       "\n",
       "[171 rows x 36188 columns]"
      ]
     },
     "execution_count": 7,
     "metadata": {},
     "output_type": "execute_result"
    }
   ],
   "source": [
    "print(df.shape)\n",
    "print(df.shape[0])\n",
    "print(df.shape[1])\n",
    "df.T\n"
   ]
  },
  {
   "cell_type": "code",
   "execution_count": 8,
   "metadata": {},
   "outputs": [
    {
     "data": {
      "text/plain": [
       "neg    35188\n",
       "pos     1000\n",
       "Name: class, dtype: int64"
      ]
     },
     "execution_count": 8,
     "metadata": {},
     "output_type": "execute_result"
    }
   ],
   "source": [
    "# Check unique values of target varaible\n",
    "df['class'].value_counts()"
   ]
  },
  {
   "cell_type": "code",
   "execution_count": 9,
   "metadata": {},
   "outputs": [
    {
     "name": "stdout",
     "output_type": "stream",
     "text": [
      "We have 170 numerical features:['aa_000', 'ab_000', 'ac_000', 'ad_000', 'ae_000', 'af_000', 'ag_000', 'ag_001', 'ag_002', 'ag_003', 'ag_004', 'ag_005', 'ag_006', 'ag_007', 'ag_008', 'ag_009', 'ah_000', 'ai_000', 'aj_000', 'ak_000', 'al_000', 'am_0', 'an_000', 'ao_000', 'ap_000', 'aq_000', 'ar_000', 'as_000', 'at_000', 'au_000', 'av_000', 'ax_000', 'ay_000', 'ay_001', 'ay_002', 'ay_003', 'ay_004', 'ay_005', 'ay_006', 'ay_007', 'ay_008', 'ay_009', 'az_000', 'az_001', 'az_002', 'az_003', 'az_004', 'az_005', 'az_006', 'az_007', 'az_008', 'az_009', 'ba_000', 'ba_001', 'ba_002', 'ba_003', 'ba_004', 'ba_005', 'ba_006', 'ba_007', 'ba_008', 'ba_009', 'bb_000', 'bc_000', 'bd_000', 'be_000', 'bf_000', 'bg_000', 'bh_000', 'bi_000', 'bj_000', 'bk_000', 'bl_000', 'bm_000', 'bn_000', 'bo_000', 'bp_000', 'bq_000', 'br_000', 'bs_000', 'bt_000', 'bu_000', 'bv_000', 'bx_000', 'by_000', 'bz_000', 'ca_000', 'cb_000', 'cc_000', 'cd_000', 'ce_000', 'cf_000', 'cg_000', 'ch_000', 'ci_000', 'cj_000', 'ck_000', 'cl_000', 'cm_000', 'cn_000', 'cn_001', 'cn_002', 'cn_003', 'cn_004', 'cn_005', 'cn_006', 'cn_007', 'cn_008', 'cn_009', 'co_000', 'cp_000', 'cq_000', 'cr_000', 'cs_000', 'cs_001', 'cs_002', 'cs_003', 'cs_004', 'cs_005', 'cs_006', 'cs_007', 'cs_008', 'cs_009', 'ct_000', 'cu_000', 'cv_000', 'cx_000', 'cy_000', 'cz_000', 'da_000', 'db_000', 'dc_000', 'dd_000', 'de_000', 'df_000', 'dg_000', 'dh_000', 'di_000', 'dj_000', 'dk_000', 'dl_000', 'dm_000', 'dn_000', 'do_000', 'dp_000', 'dq_000', 'dr_000', 'ds_000', 'dt_000', 'du_000', 'dv_000', 'dx_000', 'dy_000', 'dz_000', 'ea_000', 'eb_000', 'ec_00', 'ed_000', 'ee_000', 'ee_001', 'ee_002', 'ee_003', 'ee_004', 'ee_005', 'ee_006', 'ee_007', 'ee_008', 'ee_009', 'ef_000', 'eg_000']\n",
      "We have 1 categorical features:['class']\n"
     ]
    }
   ],
   "source": [
    "# define numerical & categorical columns\n",
    "numerical_features = [feature for feature in df.columns if df[feature].dtype != 'O']\n",
    "#categorical_features = feature for feature in df.columns if df[feature] = 'O'\n",
    "categorical_features=[]\n",
    "for feature in df.columns:\n",
    "    if df[feature].dtype =='O':\n",
    "        categorical_features.append(feature)\n",
    "print(\"We have {} numerical features:{}\".format(len(numerical_features),numerical_features))\n",
    "print(\"We have {} categorical features:{}\".format(len(categorical_features),categorical_features))"
   ]
  },
  {
   "cell_type": "code",
   "execution_count": 10,
   "metadata": {},
   "outputs": [],
   "source": [
    "missing=df.isna().sum().div(df.shape[0]).mul(100).to_frame().sort_values(by=0)"
   ]
  },
  {
   "cell_type": "code",
   "execution_count": 11,
   "metadata": {},
   "outputs": [
    {
     "data": {
      "text/plain": [
       "Text(0, 0.5, 'percentage missing')"
      ]
     },
     "execution_count": 11,
     "metadata": {},
     "output_type": "execute_result"
    },
    {
     "data": {
      "image/png": "[encoded data removed]",
      "text/plain": [
       "<Figure size 1500x500 with 1 Axes>"
      ]
     },
     "metadata": {},
     "output_type": "display_data"
    }
   ],
   "source": [
    "# Plotting Missing values count for each column\n",
    "fig, ax = plt.subplots(figsize=(15,5))\n",
    "\n",
    "missing=df.isna().sum().div(df.shape[0]).mul(100).to_frame().sort_values(by=0,ascending=False)\n",
    "ax.bar(missing.index,missing.values.T[0])\n",
    "plt.xticks([])\n",
    "plt.ylabel('percentage missing')"
   ]
  },
  {
   "cell_type": "markdown",
   "metadata": {},
   "source": [
    "#Dropping columns which has more than 70% missing values"
   ]
  },
  {
   "cell_type": "markdown",
   "metadata": {},
   "source": []
  },
  {
   "cell_type": "code",
   "execution_count": 12,
   "metadata": {},
   "outputs": [
    {
     "data": {
      "text/html": [
       "<div>\n",
       "<style scoped>\n",
       "    .dataframe tbody tr th:only-of-type {\n",
       "        vertical-align: middle;\n",
       "    }\n",
       "\n",
       "    .dataframe tbody tr th {\n",
       "        vertical-align: top;\n",
       "    }\n",
       "\n",
       "    .dataframe thead th {\n",
       "        text-align: right;\n",
       "    }\n",
       "</style>\n",
       "<table border=\"1\" class=\"dataframe\">\n",
       "  <thead>\n",
       "    <tr style=\"text-align: right;\">\n",
       "      <th></th>\n",
       "      <th>0</th>\n",
       "    </tr>\n",
       "  </thead>\n",
       "  <tbody>\n",
       "    <tr>\n",
       "      <th>br_000</th>\n",
       "      <td>81.410965</td>\n",
       "    </tr>\n",
       "    <tr>\n",
       "      <th>bq_000</th>\n",
       "      <td>80.501824</td>\n",
       "    </tr>\n",
       "    <tr>\n",
       "      <th>bp_000</th>\n",
       "      <td>78.794075</td>\n",
       "    </tr>\n",
       "    <tr>\n",
       "      <th>ab_000</th>\n",
       "      <td>77.086327</td>\n",
       "    </tr>\n",
       "    <tr>\n",
       "      <th>cr_000</th>\n",
       "      <td>77.086327</td>\n",
       "    </tr>\n",
       "    <tr>\n",
       "      <th>bo_000</th>\n",
       "      <td>76.533658</td>\n",
       "    </tr>\n",
       "    <tr>\n",
       "      <th>bn_000</th>\n",
       "      <td>72.761689</td>\n",
       "    </tr>\n",
       "  </tbody>\n",
       "</table>\n",
       "</div>"
      ],
      "text/plain": [
       "                0\n",
       "br_000  81.410965\n",
       "bq_000  80.501824\n",
       "bp_000  78.794075\n",
       "ab_000  77.086327\n",
       "cr_000  77.086327\n",
       "bo_000  76.533658\n",
       "bn_000  72.761689"
      ]
     },
     "execution_count": 12,
     "metadata": {},
     "output_type": "execute_result"
    }
   ],
   "source": [
    "dropcols=missing[missing[0]>70]\n",
    "dropcols"
   ]
  },
  {
   "cell_type": "code",
   "execution_count": 13,
   "metadata": {},
   "outputs": [],
   "source": [
    "df.drop(list(dropcols.index),axis=1,inplace=True)"
   ]
  },
  {
   "cell_type": "code",
   "execution_count": 14,
   "metadata": {},
   "outputs": [
    {
     "data": {
      "text/plain": [
       "(36188, 164)"
      ]
     },
     "execution_count": 14,
     "metadata": {},
     "output_type": "execute_result"
    }
   ],
   "source": [
    "df.shape"
   ]
  },
  {
   "cell_type": "markdown",
   "metadata": {},
   "source": [
    "Total percentage of missing values after removing columns >70% missing values"
   ]
  },
  {
   "cell_type": "code",
   "execution_count": 15,
   "metadata": {},
   "outputs": [
    {
     "name": "stdout",
     "output_type": "stream",
     "text": [
      "class        0\n",
      "aa_000       0\n",
      "ac_000    2141\n",
      "ad_000    9200\n",
      "ae_000    1587\n",
      "          ... \n",
      "ee_007     379\n",
      "ee_008     379\n",
      "ee_009     379\n",
      "ef_000    1730\n",
      "eg_000    1729\n",
      "Length: 164, dtype: int64\n",
      "percentage of missing_values_count in dataframe is 5.37059852747306%\n"
     ]
    }
   ],
   "source": [
    "missing_values_count=df.isnull().sum()\n",
    "print(missing_values_count)\n",
    "total_cells=np.product(df.shape)\n",
    "total_cells\n",
    "print(f\"percentage of missing_values_count in dataframe is {missing_values_count.sum()/total_cells*100}%\")\n"
   ]
  },
  {
   "cell_type": "code",
   "execution_count": 41,
   "metadata": {},
   "outputs": [
    {
     "name": "stdout",
     "output_type": "stream",
     "text": [
      "Positive: 1000, Negative: 35188\n"
     ]
    },
    {
     "data": {
      "text/plain": [
       "<seaborn.axisgrid.FacetGrid at 0x7fbe3bef7130>"
      ]
     },
     "execution_count": 41,
     "metadata": {},
     "output_type": "execute_result"
    },
    {
     "data": {
      "image/png": "[encoded data removed]",
      "text/plain": [
       "<Figure size 500x500 with 1 Axes>"
      ]
     },
     "metadata": {},
     "output_type": "display_data"
    }
   ],
   "source": [
    "pos=df[df['class']=='pos'].shape[0]\n",
    "neg=df[df['class']=='neg'].shape[0]\n",
    "print(\"Positive: \"+str(pos)+\", Negative: \"+str(neg))\n",
    "sns.catplot(data=df,x=\"class\",kind=\"count\",palette=\"winter_r\",alpha=0.7)\n",
    "# catplot shows relationship between numerical variable and one or more categorical variables"
   ]
  },
  {
   "cell_type": "markdown",
   "metadata": {},
   "source": [
    "#Pre processing/Data Transformation"
   ]
  },
  {
   "cell_type": "code",
   "execution_count": 1,
   "metadata": {},
   "outputs": [],
   "source": [
    "\n",
    "#1)simple imputer(To replace the null vlaues in the dataset)\n",
    "#2)Re sampling to resolve imblance in dataset.We will use\n",
    "##library to increase the negative class events\n",
    "#2)Simple imputer(to replace the null values in the data set)\n",
    "#3)Robust scaler-to reduce the impact of outliers\n"
   ]
  },
  {
   "cell_type": "code",
   "execution_count": null,
   "metadata": {},
   "outputs": [],
   "source": []
  },
  {
   "cell_type": "code",
   "execution_count": null,
   "metadata": {},
   "outputs": [],
   "source": []
  }
 ],
 "metadata": {
  "kernelspec": {
   "display_name": "Python 3.8.10 64-bit",
   "language": "python",
   "name": "python3"
  },
  "language_info": {
   "codemirror_mode": {
    "name": "ipython",
    "version": 3
   },
   "file_extension": ".py",
   "mimetype": "text/x-python",
   "name": "python",
   "nbconvert_exporter": "python",
   "pygments_lexer": "ipython3",
   "version": "3.8.10"
  },
  "orig_nbformat": 4,
  "vscode": {
   "interpreter": {
    "hash": "e7370f93d1d0cde622a1f8e1c04877d8463912d04d973331ad4851f04de6915a"
   }
  }
 },
 "nbformat": 4,
 "nbformat_minor": 2
}
